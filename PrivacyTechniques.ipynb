{
 "cells": [
  {
   "cell_type": "code",
   "execution_count": 96,
   "id": "38799951-b7a8-425e-a940-3878dab7a9ff",
   "metadata": {},
   "outputs": [],
   "source": [
    "import os\n",
    "import pandas as pd\n",
    "import warnings\n",
    "warnings.filterwarnings(\"ignore\", category=FutureWarning)"
   ]
  },
  {
   "cell_type": "code",
   "execution_count": 97,
   "id": "74347a81-e9c5-4ea4-8d98-661ee8c0f8d5",
   "metadata": {},
   "outputs": [],
   "source": [
    "folder_path = 'output/'\n",
    "files = os.listdir(folder_path)"
   ]
  },
  {
   "cell_type": "code",
   "execution_count": 98,
   "id": "cf597a02-09c7-4928-bbcb-90ca707e8de5",
   "metadata": {},
   "outputs": [],
   "source": [
    "csv_files = []"
   ]
  },
  {
   "cell_type": "code",
   "execution_count": 99,
   "id": "0dd3482e-045e-4bc0-9952-cc9725403691",
   "metadata": {},
   "outputs": [
    {
     "data": {
      "text/plain": [
       "['part-00000-f8a882d0-ee77-44cb-a085-df99db7beec4-c000.csv',\n",
       " 'part-00000-fa6abbca-0c3d-4c5f-a666-835f9f8cddbf-c000.csv',\n",
       " 'part-00000-4a00b367-43fb-4282-82ea-d39d0ce209e2-c000.csv',\n",
       " 'part-00000-c09e7bab-70b2-4337-a21a-c0f6144574e1-c000.csv',\n",
       " 'part-00000-cd7cb23c-7d5b-48a4-ba8d-d97363bbfd81-c000.csv',\n",
       " 'part-00000-d47f0f02-392a-41b0-b0a6-cbfff404b83b-c000.csv',\n",
       " 'part-00000-b0132ef1-37fb-442b-bf4f-a164d3696a2a-c000.csv',\n",
       " 'part-00000-e5d0f19d-1a41-4ebf-a40b-f6508b167271-c000.csv',\n",
       " 'part-00000-b1ec6e89-e095-4360-af3d-d760958c71ab-c000.csv',\n",
       " 'part-00000-c3ccf997-8468-4c7c-a63e-8214c78a2cdb-c000.csv',\n",
       " 'part-00000-038abf22-5679-4d61-b77d-69224a43fa2e-c000.csv',\n",
       " 'part-00000-e878697d-38c9-4323-9277-76958344b4e7-c000.csv',\n",
       " 'part-00000-ad46fe72-6e41-4d62-ada2-4e9af3d285b8-c000.csv',\n",
       " 'part-00000-d8e6f8b5-2dfa-4360-af91-7c39ef9eb3ba-c000.csv',\n",
       " 'part-00000-734c6540-97b4-40d1-9f99-7b7e9bb4e220-c000.csv',\n",
       " 'part-00000-abfc0e22-0ca0-445f-af4b-1204d3aa03c0-c000.csv',\n",
       " 'part-00000-f6fa3c2e-668e-4d98-bfa4-9bbb22c34a99-c000.csv',\n",
       " 'part-00000-6af02a5a-dd6b-43cd-ae17-c553c78f7e69-c000.csv',\n",
       " 'part-00000-87a99c43-5df7-438b-827a-da5b106ee000-c000.csv',\n",
       " 'part-00000-45d131f8-b72f-4dde-bbd3-c2089036ef4b-c000.csv',\n",
       " 'part-00000-e61c4f4f-675c-4454-9853-2e940076f544-c000.csv',\n",
       " 'part-00000-186843a0-ebef-42eb-9581-2693460e3b7c-c000.csv',\n",
       " 'part-00000-7e3ffd87-cb51-4369-aa95-e657b7b3c9f6-c000.csv',\n",
       " 'part-00000-e6196181-aeaf-4238-a6cc-35afe943fe41-c000.csv',\n",
       " 'part-00000-52b8fdab-b9cf-4a64-b172-22369104f583-c000.csv',\n",
       " 'part-00000-127c8308-0a53-4d89-b3bd-06c07a826e64-c000.csv',\n",
       " 'part-00000-34f66aa2-92e0-4f39-97ba-3301ebf7f756-c000.csv',\n",
       " 'part-00000-291f7bd5-ae8d-4afd-8efd-d69f6c40576d-c000.csv',\n",
       " 'part-00000-d95b0200-7c32-4c03-b44b-2bc58ec037ca-c000.csv',\n",
       " 'part-00000-8f10e7b1-8073-4a41-8c15-0334bcc1748f-c000.csv',\n",
       " 'part-00000-c96da437-ec59-4ca4-998a-be1e9690cad5-c000.csv',\n",
       " 'part-00000-465032f9-0ed8-4414-81a5-18daa6d199b9-c000.csv',\n",
       " 'part-00000-9a539150-2505-4c89-a898-dbc4063dd096-c000.csv',\n",
       " 'part-00000-562e8d2d-698a-4e72-aadb-feb248a87ebc-c000.csv',\n",
       " 'part-00000-4e491fdb-009c-42f3-aff4-33a5a8bf5d3e-c000.csv',\n",
       " 'part-00000-ef9c23a6-5565-49db-b86a-503bdf3fcea6-c000.csv',\n",
       " 'part-00000-65cebe22-7e2d-4a0c-9a37-877bd4b8400d-c000.csv',\n",
       " 'part-00000-fb306e3c-fa52-416b-9920-8a7fa4a0e7ef-c000.csv',\n",
       " 'part-00000-e11705b7-11b6-48f7-9169-b97762d23214-c000.csv',\n",
       " 'part-00000-be6bb9dc-0aa6-4fc9-b3d7-a8f78e0a21d2-c000.csv',\n",
       " 'part-00000-fee5ec19-191e-4c96-baed-05c136584d24-c000.csv',\n",
       " 'part-00000-8261b5a6-1064-4f54-b9ca-b5f44a37da36-c000.csv',\n",
       " 'part-00000-1f4cb01d-1f86-472c-9d70-71135878c375-c000.csv',\n",
       " 'part-00000-58774345-a833-4fdc-bc55-0a34bcae56b5-c000.csv']"
      ]
     },
     "execution_count": 99,
     "metadata": {},
     "output_type": "execute_result"
    }
   ],
   "source": [
    "csv_files = [file for file in files if file.endswith('.csv')]\n",
    "csv_files"
   ]
  },
  {
   "cell_type": "code",
   "execution_count": 100,
   "id": "4c6ecbc2-8373-43de-983f-07add9250a4f",
   "metadata": {},
   "outputs": [
    {
     "data": {
      "text/plain": [
       "44"
      ]
     },
     "execution_count": 100,
     "metadata": {},
     "output_type": "execute_result"
    }
   ],
   "source": [
    "len(csv_files)"
   ]
  },
  {
   "cell_type": "code",
   "execution_count": 101,
   "id": "2efcf8a3-9d9b-44dd-bc97-a96619caa0c1",
   "metadata": {},
   "outputs": [],
   "source": [
    "columns = ['Transaction ID', 'User ID', 'Name', 'Timestamp', 'Amount', 'Card Number', 'Merchant ID', 'Merchant', 'Merchant Category', 'Latitude', 'Longitude', 'Transaction Type', 'Transaction Device']"
   ]
  },
  {
   "cell_type": "code",
   "execution_count": 102,
   "id": "f3697183-a123-4afc-a20b-93e77903a586",
   "metadata": {},
   "outputs": [],
   "source": [
    "dfs = pd.DataFrame(columns=columns)"
   ]
  },
  {
   "cell_type": "code",
   "execution_count": 103,
   "id": "f0697a56-374e-4345-ade9-0604793ed9cf",
   "metadata": {},
   "outputs": [],
   "source": [
    "def is_file_empty(file_path):\n",
    "    return os.path.getsize(file_path) == 0"
   ]
  },
  {
   "cell_type": "code",
   "execution_count": 104,
   "id": "ee911e21-64ef-4d03-b910-a4093be83ad0",
   "metadata": {},
   "outputs": [],
   "source": [
    "for csv_file in csv_files:\n",
    "    file_path = os.path.join(folder_path, csv_file)\n",
    "    if is_file_empty(file_path):\n",
    "        print(\"File is empty\")\n",
    "    else:\n",
    "        dataframe = pd.read_csv(file_path,header=None)\n",
    "        dataframe.columns = columns\n",
    "        dfs = dfs.append(dataframe,ignore_index=True)"
   ]
  },
  {
   "cell_type": "code",
   "execution_count": 105,
   "id": "03c70908-296c-4ff6-9c98-15a70879c4db",
   "metadata": {},
   "outputs": [
    {
     "data": {
      "text/html": [
       "<div>\n",
       "<style scoped>\n",
       "    .dataframe tbody tr th:only-of-type {\n",
       "        vertical-align: middle;\n",
       "    }\n",
       "\n",
       "    .dataframe tbody tr th {\n",
       "        vertical-align: top;\n",
       "    }\n",
       "\n",
       "    .dataframe thead th {\n",
       "        text-align: right;\n",
       "    }\n",
       "</style>\n",
       "<table border=\"1\" class=\"dataframe\">\n",
       "  <thead>\n",
       "    <tr style=\"text-align: right;\">\n",
       "      <th></th>\n",
       "      <th>Transaction ID</th>\n",
       "      <th>User ID</th>\n",
       "      <th>Name</th>\n",
       "      <th>Timestamp</th>\n",
       "      <th>Amount</th>\n",
       "      <th>Card Number</th>\n",
       "      <th>Merchant ID</th>\n",
       "      <th>Merchant</th>\n",
       "      <th>Merchant Category</th>\n",
       "      <th>Latitude</th>\n",
       "      <th>Longitude</th>\n",
       "      <th>Transaction Type</th>\n",
       "      <th>Transaction Device</th>\n",
       "    </tr>\n",
       "  </thead>\n",
       "  <tbody>\n",
       "    <tr>\n",
       "      <th>0</th>\n",
       "      <td>64e37d06-57f5-4830-884e-13de86137c36</td>\n",
       "      <td>101</td>\n",
       "      <td>Prayag</td>\n",
       "      <td>1.714086e+09</td>\n",
       "      <td>116.02</td>\n",
       "      <td>1526526111742610</td>\n",
       "      <td>278243211</td>\n",
       "      <td>Guerra-Parker</td>\n",
       "      <td>Travel</td>\n",
       "      <td>37.335914</td>\n",
       "      <td>-121.895284</td>\n",
       "      <td>online</td>\n",
       "      <td>tablet</td>\n",
       "    </tr>\n",
       "    <tr>\n",
       "      <th>1</th>\n",
       "      <td>a524a4e2-e3d3-49c1-81e3-5a08310d964c</td>\n",
       "      <td>101</td>\n",
       "      <td>Prayag</td>\n",
       "      <td>1.714086e+09</td>\n",
       "      <td>414.81</td>\n",
       "      <td>9066238319520434</td>\n",
       "      <td>390876309</td>\n",
       "      <td>Riley, Black and Mcneil</td>\n",
       "      <td>Retail</td>\n",
       "      <td>37.335914</td>\n",
       "      <td>-121.895284</td>\n",
       "      <td>online</td>\n",
       "      <td>mobile</td>\n",
       "    </tr>\n",
       "    <tr>\n",
       "      <th>2</th>\n",
       "      <td>6de37985-1960-430e-9d7f-9742bea04436</td>\n",
       "      <td>101</td>\n",
       "      <td>Prayag</td>\n",
       "      <td>1.714086e+09</td>\n",
       "      <td>32.28</td>\n",
       "      <td>1458696754287969</td>\n",
       "      <td>129402302</td>\n",
       "      <td>Flores, Hunt and Cantu</td>\n",
       "      <td>Travel</td>\n",
       "      <td>37.335914</td>\n",
       "      <td>-121.895284</td>\n",
       "      <td>online</td>\n",
       "      <td>tablet</td>\n",
       "    </tr>\n",
       "    <tr>\n",
       "      <th>3</th>\n",
       "      <td>e8a3dc5e-e3e0-4131-a8c7-24639bca288b</td>\n",
       "      <td>157f222f-3ff5-42c6-9202-7641ed84b1b7</td>\n",
       "      <td>Megan Garcia</td>\n",
       "      <td>1.714086e+09</td>\n",
       "      <td>164.66</td>\n",
       "      <td>4232044953524255</td>\n",
       "      <td>143540159</td>\n",
       "      <td>Johnson-Orozco</td>\n",
       "      <td>Online</td>\n",
       "      <td>-13.274542</td>\n",
       "      <td>-91.620848</td>\n",
       "      <td>online</td>\n",
       "      <td>mobile</td>\n",
       "    </tr>\n",
       "    <tr>\n",
       "      <th>4</th>\n",
       "      <td>a750be24-078f-4c9a-97b5-a0498223f498</td>\n",
       "      <td>101</td>\n",
       "      <td>Prayag</td>\n",
       "      <td>1.714086e+09</td>\n",
       "      <td>423.07</td>\n",
       "      <td>6904945021183783</td>\n",
       "      <td>381072393</td>\n",
       "      <td>Hall, Alvarado and Carrillo</td>\n",
       "      <td>Travel</td>\n",
       "      <td>37.335914</td>\n",
       "      <td>-121.895284</td>\n",
       "      <td>online</td>\n",
       "      <td>tablet</td>\n",
       "    </tr>\n",
       "  </tbody>\n",
       "</table>\n",
       "</div>"
      ],
      "text/plain": [
       "                         Transaction ID                               User ID  \\\n",
       "0  64e37d06-57f5-4830-884e-13de86137c36                                   101   \n",
       "1  a524a4e2-e3d3-49c1-81e3-5a08310d964c                                   101   \n",
       "2  6de37985-1960-430e-9d7f-9742bea04436                                   101   \n",
       "3  e8a3dc5e-e3e0-4131-a8c7-24639bca288b  157f222f-3ff5-42c6-9202-7641ed84b1b7   \n",
       "4  a750be24-078f-4c9a-97b5-a0498223f498                                   101   \n",
       "\n",
       "           Name     Timestamp  Amount       Card Number Merchant ID  \\\n",
       "0        Prayag  1.714086e+09  116.02  1526526111742610   278243211   \n",
       "1        Prayag  1.714086e+09  414.81  9066238319520434   390876309   \n",
       "2        Prayag  1.714086e+09   32.28  1458696754287969   129402302   \n",
       "3  Megan Garcia  1.714086e+09  164.66  4232044953524255   143540159   \n",
       "4        Prayag  1.714086e+09  423.07  6904945021183783   381072393   \n",
       "\n",
       "                      Merchant Merchant Category   Latitude   Longitude  \\\n",
       "0                Guerra-Parker            Travel  37.335914 -121.895284   \n",
       "1      Riley, Black and Mcneil            Retail  37.335914 -121.895284   \n",
       "2       Flores, Hunt and Cantu            Travel  37.335914 -121.895284   \n",
       "3               Johnson-Orozco            Online -13.274542  -91.620848   \n",
       "4  Hall, Alvarado and Carrillo            Travel  37.335914 -121.895284   \n",
       "\n",
       "  Transaction Type Transaction Device  \n",
       "0           online             tablet  \n",
       "1           online             mobile  \n",
       "2           online             tablet  \n",
       "3           online             mobile  \n",
       "4           online             tablet  "
      ]
     },
     "execution_count": 105,
     "metadata": {},
     "output_type": "execute_result"
    }
   ],
   "source": [
    "dfs.head()"
   ]
  },
  {
   "cell_type": "markdown",
   "id": "4354e8cb-4bab-4f55-94c1-4c9ec7e3b2b3",
   "metadata": {},
   "source": [
    "# Tokenization"
   ]
  },
  {
   "cell_type": "code",
   "execution_count": 106,
   "id": "0f0f5869-04b4-4338-8e4a-71eb694927b4",
   "metadata": {},
   "outputs": [],
   "source": [
    "import pandas as pd\n",
    "import hashlib\n",
    "import secrets"
   ]
  },
  {
   "cell_type": "code",
   "execution_count": null,
   "id": "e9abbdea-1c00-4d35-be47-4e0ba5b0e331",
   "metadata": {},
   "outputs": [],
   "source": []
  },
  {
   "cell_type": "code",
   "execution_count": 107,
   "id": "5ef31dc3-d873-4df2-9fa0-bc1d01b402c4",
   "metadata": {},
   "outputs": [],
   "source": [
    "def tokenize(value):\n",
    "    return secrets.token_hex(16)"
   ]
  },
  {
   "cell_type": "code",
   "execution_count": 108,
   "id": "8c6537cd-df08-4867-ab38-3a74d9c6b180",
   "metadata": {},
   "outputs": [],
   "source": [
    "def tokenize_dataframe(df, columns_to_tokenize):\n",
    "    tokenized_df = df.copy()\n",
    "    for column in columns_to_tokenize:\n",
    "        tokenized_df[column] = tokenized_df[column].apply(tokenize)\n",
    "    return tokenized_df"
   ]
  },
  {
   "cell_type": "code",
   "execution_count": 109,
   "id": "126f8a5b-402f-42f2-9691-b1e6417665ca",
   "metadata": {},
   "outputs": [],
   "source": [
    "columns_to_tokenize = ['Card Number', 'Transaction ID','Name', 'User ID']"
   ]
  },
  {
   "cell_type": "code",
   "execution_count": 110,
   "id": "913c5a98-1b87-4681-9192-36e44a273d9e",
   "metadata": {},
   "outputs": [],
   "source": [
    "tokenized_df = tokenize_dataframe(dfs, columns_to_tokenize)"
   ]
  },
  {
   "cell_type": "code",
   "execution_count": 111,
   "id": "81cb163a-2814-4078-9492-3ceb0a6eeaa3",
   "metadata": {},
   "outputs": [
    {
     "data": {
      "text/html": [
       "<div>\n",
       "<style scoped>\n",
       "    .dataframe tbody tr th:only-of-type {\n",
       "        vertical-align: middle;\n",
       "    }\n",
       "\n",
       "    .dataframe tbody tr th {\n",
       "        vertical-align: top;\n",
       "    }\n",
       "\n",
       "    .dataframe thead th {\n",
       "        text-align: right;\n",
       "    }\n",
       "</style>\n",
       "<table border=\"1\" class=\"dataframe\">\n",
       "  <thead>\n",
       "    <tr style=\"text-align: right;\">\n",
       "      <th></th>\n",
       "      <th>Transaction ID</th>\n",
       "      <th>User ID</th>\n",
       "      <th>Name</th>\n",
       "      <th>Timestamp</th>\n",
       "      <th>Amount</th>\n",
       "      <th>Card Number</th>\n",
       "      <th>Merchant ID</th>\n",
       "      <th>Merchant</th>\n",
       "      <th>Merchant Category</th>\n",
       "      <th>Latitude</th>\n",
       "      <th>Longitude</th>\n",
       "      <th>Transaction Type</th>\n",
       "      <th>Transaction Device</th>\n",
       "    </tr>\n",
       "  </thead>\n",
       "  <tbody>\n",
       "    <tr>\n",
       "      <th>0</th>\n",
       "      <td>04c6dc0d5b3ad3e08779ff8c0856c63d</td>\n",
       "      <td>51c6165c59d433e3fc07a9ce17d6a227</td>\n",
       "      <td>9c7f045990c65900c8e2243b85aa7670</td>\n",
       "      <td>1.714086e+09</td>\n",
       "      <td>116.02</td>\n",
       "      <td>c3d4cc1993cda4e8bfae3a84ebe68789</td>\n",
       "      <td>278243211</td>\n",
       "      <td>Guerra-Parker</td>\n",
       "      <td>Travel</td>\n",
       "      <td>37.335914</td>\n",
       "      <td>-121.895284</td>\n",
       "      <td>online</td>\n",
       "      <td>tablet</td>\n",
       "    </tr>\n",
       "    <tr>\n",
       "      <th>1</th>\n",
       "      <td>92e904e702e4b47f7c9571edb6d95a86</td>\n",
       "      <td>9fba8f41addd8c946eb9249b342d4753</td>\n",
       "      <td>91810ea4dd71f5eb6ffbc51fcd222691</td>\n",
       "      <td>1.714086e+09</td>\n",
       "      <td>414.81</td>\n",
       "      <td>46fad6c52ea2b4cba8d479a5fae4d1d4</td>\n",
       "      <td>390876309</td>\n",
       "      <td>Riley, Black and Mcneil</td>\n",
       "      <td>Retail</td>\n",
       "      <td>37.335914</td>\n",
       "      <td>-121.895284</td>\n",
       "      <td>online</td>\n",
       "      <td>mobile</td>\n",
       "    </tr>\n",
       "    <tr>\n",
       "      <th>2</th>\n",
       "      <td>f9ed7bf0ec3dd7c529c6b17bafd1723e</td>\n",
       "      <td>f2dba2c106cba7d208e759d9b4c09be4</td>\n",
       "      <td>6fbc979f0d85578b29501980ea973b0f</td>\n",
       "      <td>1.714086e+09</td>\n",
       "      <td>32.28</td>\n",
       "      <td>ad1018fe989a6dbd9e89c51977701ecd</td>\n",
       "      <td>129402302</td>\n",
       "      <td>Flores, Hunt and Cantu</td>\n",
       "      <td>Travel</td>\n",
       "      <td>37.335914</td>\n",
       "      <td>-121.895284</td>\n",
       "      <td>online</td>\n",
       "      <td>tablet</td>\n",
       "    </tr>\n",
       "    <tr>\n",
       "      <th>3</th>\n",
       "      <td>e2296bf02d5c41e772ea883f0d6bf9f3</td>\n",
       "      <td>8d253f938e2657fe55e202263b626d53</td>\n",
       "      <td>807b7262ee8d0ab1392540ed5f51f897</td>\n",
       "      <td>1.714086e+09</td>\n",
       "      <td>164.66</td>\n",
       "      <td>36ada32742b7d4edbba8b507decc64b7</td>\n",
       "      <td>143540159</td>\n",
       "      <td>Johnson-Orozco</td>\n",
       "      <td>Online</td>\n",
       "      <td>-13.274542</td>\n",
       "      <td>-91.620848</td>\n",
       "      <td>online</td>\n",
       "      <td>mobile</td>\n",
       "    </tr>\n",
       "    <tr>\n",
       "      <th>4</th>\n",
       "      <td>aa221047be567c015e38fa854cdc055c</td>\n",
       "      <td>855ce2b170dd92656968888217dc8dad</td>\n",
       "      <td>6362ca2ff6b1a4039c2b5a32781583c3</td>\n",
       "      <td>1.714086e+09</td>\n",
       "      <td>423.07</td>\n",
       "      <td>ebd6f4813c26bb267dfa6f0bc25eb171</td>\n",
       "      <td>381072393</td>\n",
       "      <td>Hall, Alvarado and Carrillo</td>\n",
       "      <td>Travel</td>\n",
       "      <td>37.335914</td>\n",
       "      <td>-121.895284</td>\n",
       "      <td>online</td>\n",
       "      <td>tablet</td>\n",
       "    </tr>\n",
       "  </tbody>\n",
       "</table>\n",
       "</div>"
      ],
      "text/plain": [
       "                     Transaction ID                           User ID  \\\n",
       "0  04c6dc0d5b3ad3e08779ff8c0856c63d  51c6165c59d433e3fc07a9ce17d6a227   \n",
       "1  92e904e702e4b47f7c9571edb6d95a86  9fba8f41addd8c946eb9249b342d4753   \n",
       "2  f9ed7bf0ec3dd7c529c6b17bafd1723e  f2dba2c106cba7d208e759d9b4c09be4   \n",
       "3  e2296bf02d5c41e772ea883f0d6bf9f3  8d253f938e2657fe55e202263b626d53   \n",
       "4  aa221047be567c015e38fa854cdc055c  855ce2b170dd92656968888217dc8dad   \n",
       "\n",
       "                               Name     Timestamp  Amount  \\\n",
       "0  9c7f045990c65900c8e2243b85aa7670  1.714086e+09  116.02   \n",
       "1  91810ea4dd71f5eb6ffbc51fcd222691  1.714086e+09  414.81   \n",
       "2  6fbc979f0d85578b29501980ea973b0f  1.714086e+09   32.28   \n",
       "3  807b7262ee8d0ab1392540ed5f51f897  1.714086e+09  164.66   \n",
       "4  6362ca2ff6b1a4039c2b5a32781583c3  1.714086e+09  423.07   \n",
       "\n",
       "                        Card Number Merchant ID                     Merchant  \\\n",
       "0  c3d4cc1993cda4e8bfae3a84ebe68789   278243211                Guerra-Parker   \n",
       "1  46fad6c52ea2b4cba8d479a5fae4d1d4   390876309      Riley, Black and Mcneil   \n",
       "2  ad1018fe989a6dbd9e89c51977701ecd   129402302       Flores, Hunt and Cantu   \n",
       "3  36ada32742b7d4edbba8b507decc64b7   143540159               Johnson-Orozco   \n",
       "4  ebd6f4813c26bb267dfa6f0bc25eb171   381072393  Hall, Alvarado and Carrillo   \n",
       "\n",
       "  Merchant Category   Latitude   Longitude Transaction Type Transaction Device  \n",
       "0            Travel  37.335914 -121.895284           online             tablet  \n",
       "1            Retail  37.335914 -121.895284           online             mobile  \n",
       "2            Travel  37.335914 -121.895284           online             tablet  \n",
       "3            Online -13.274542  -91.620848           online             mobile  \n",
       "4            Travel  37.335914 -121.895284           online             tablet  "
      ]
     },
     "execution_count": 111,
     "metadata": {},
     "output_type": "execute_result"
    }
   ],
   "source": [
    "tokenized_df.head()"
   ]
  },
  {
   "cell_type": "code",
   "execution_count": null,
   "id": "ce54618a-f28d-4765-8fde-1d2f176102ce",
   "metadata": {},
   "outputs": [],
   "source": []
  },
  {
   "cell_type": "code",
   "execution_count": null,
   "id": "e6c61d7f-4c91-4853-9865-7d7d4b8e87d8",
   "metadata": {},
   "outputs": [],
   "source": []
  },
  {
   "cell_type": "markdown",
   "id": "235cc279-b490-4995-9c1a-55bfe8a3c444",
   "metadata": {},
   "source": [
    "# Data Privacy "
   ]
  },
  {
   "cell_type": "code",
   "execution_count": 112,
   "id": "7d970768-1dac-4443-acaf-1b62eaf306a0",
   "metadata": {},
   "outputs": [],
   "source": [
    "import pandas as pd\n",
    "from sklearn.metrics import silhouette_score\n",
    "from sklearn.cluster import KMeans\n",
    "import matplotlib.pyplot as plt"
   ]
  },
  {
   "cell_type": "code",
   "execution_count": 113,
   "id": "2439afb4-3c1e-4310-b2cb-7c74e50823f7",
   "metadata": {},
   "outputs": [],
   "source": [
    "data = dfs"
   ]
  },
  {
   "cell_type": "code",
   "execution_count": 114,
   "id": "0eafe2d5-d4d2-48a4-bb71-443185c4f4c0",
   "metadata": {},
   "outputs": [],
   "source": [
    "k_values = range(2, 101)\n",
    "silhouette_scores = []"
   ]
  },
  {
   "cell_type": "code",
   "execution_count": 115,
   "id": "64cbf599-bbbb-41a5-9af3-492241f9f92e",
   "metadata": {},
   "outputs": [],
   "source": [
    "X = data[['Latitude', 'Longitude']]"
   ]
  },
  {
   "cell_type": "code",
   "execution_count": 116,
   "id": "284a27cc-3fbc-4cd7-9118-0e629ddb155c",
   "metadata": {},
   "outputs": [],
   "source": [
    "for k in k_values:\n",
    "    kmeans = KMeans(n_clusters=k)\n",
    "    kmeans.fit(X)\n",
    "    if len(set(kmeans.labels_)) < 2:\n",
    "        silhouette_scores.append(float('-inf'))  # Assign a very low score\n",
    "        continue\n",
    "    \n",
    "    silhouette_scores.append(silhouette_score(X, kmeans.labels_))\n"
   ]
  },
  {
   "cell_type": "code",
   "execution_count": 117,
   "id": "9d1be3c3-4108-4b26-84ba-e5ad904a2bc6",
   "metadata": {},
   "outputs": [],
   "source": [
    "# Find the index of the maximum silhouette score\n",
    "best_k_index = silhouette_scores.index(max(silhouette_scores))"
   ]
  },
  {
   "cell_type": "code",
   "execution_count": 118,
   "id": "e115175d-4ee1-4bce-b733-bb9f31cd439d",
   "metadata": {},
   "outputs": [],
   "source": [
    "# Get the best k value\n",
    "best_k = k_values[best_k_index]"
   ]
  },
  {
   "cell_type": "code",
   "execution_count": 119,
   "id": "39a7f857-dc90-4974-bfac-90b817ca9de8",
   "metadata": {},
   "outputs": [
    {
     "data": {
      "image/png": "[encoded data removed]",
      "text/plain": [
       "<Figure size 1000x600 with 1 Axes>"
      ]
     },
     "metadata": {},
     "output_type": "display_data"
    }
   ],
   "source": [
    "# Plot the silhouette scores\n",
    "#Silhouette value is a measure of how similar an object is to its own cluster (cohesion) compared to other clusters (separation)\n",
    "plt.figure(figsize=(10, 6))\n",
    "plt.plot(k_values, silhouette_scores, marker='o', linestyle='-')\n",
    "plt.title('Silhouette Score vs. Value of K')\n",
    "plt.xlabel('Number of Clusters (k)')\n",
    "plt.ylabel('Silhouette Score')\n",
    "plt.xticks(range(2, 101, 5))\n",
    "plt.grid(True)\n",
    "plt.tight_layout()\n",
    "plt.show()"
   ]
  },
  {
   "cell_type": "code",
   "execution_count": 120,
   "id": "9ddabdd4-3325-4b6b-bdf4-0a56fa046c8d",
   "metadata": {},
   "outputs": [
    {
     "name": "stdout",
     "output_type": "stream",
     "text": [
      "The best k value is: 6\n"
     ]
    }
   ],
   "source": [
    "print(f\"The best k value is: {best_k}\")"
   ]
  },
  {
   "cell_type": "code",
   "execution_count": 121,
   "id": "119fbcff-b166-476b-b417-8d06f448b1e1",
   "metadata": {},
   "outputs": [],
   "source": [
    "\n",
    "k = best_k"
   ]
  },
  {
   "cell_type": "code",
   "execution_count": 122,
   "id": "c025d1fb-26df-416d-b793-dd0af6303af4",
   "metadata": {},
   "outputs": [],
   "source": [
    "# Anonymize sensitive attributes\n",
    "dfs['Name'] = dfs['Name'].apply(lambda x: str(x)[0] + '*'*(len(str(x))-1))\n",
    "dfs['Card Number'] = dfs['Card Number'].apply(lambda x: '*'*(len(str(x))-4) + str(x)[-4:])\n",
    "dfs['Merchant'] = dfs['Merchant'].apply(lambda x: str(x)[0] + '*'*(len(str(x))-1))\n"
   ]
  },
  {
   "cell_type": "code",
   "execution_count": null,
   "id": "99c1f9db-b640-425c-8455-0a10e5637f16",
   "metadata": {},
   "outputs": [],
   "source": []
  },
  {
   "cell_type": "code",
   "execution_count": null,
   "id": "e7c5e568-050c-4016-9f0e-a0fd5618d6b5",
   "metadata": {},
   "outputs": [],
   "source": []
  },
  {
   "cell_type": "markdown",
   "id": "b6aad81b-9654-4290-a5d6-8e9dacae567c",
   "metadata": {},
   "source": [
    "# LSH"
   ]
  },
  {
   "cell_type": "code",
   "execution_count": 199,
   "id": "1c2a33a6-40fd-450b-9d9d-a64d05677319",
   "metadata": {},
   "outputs": [],
   "source": [
    "import pandas as pd\n",
    "from datasketch import MinHashLSH, MinHash\n",
    "import hashlib\n",
    "import networkx as nx\n",
    "import matplotlib.pyplot as plt"
   ]
  },
  {
   "cell_type": "code",
   "execution_count": 200,
   "id": "c260032e-eb1a-405b-b867-1be6ee0916fa",
   "metadata": {},
   "outputs": [],
   "source": [
    "# Load your data into a DataFrame (replace 'data.csv' with your actual data file)\n",
    "data = dfs"
   ]
  },
  {
   "cell_type": "code",
   "execution_count": 201,
   "id": "d95678b8-c97d-4199-a42f-a4d8918a3ee5",
   "metadata": {},
   "outputs": [],
   "source": [
    "selected_columns = ['Transaction ID', 'User ID', 'Name']  # Add more columns as needed\n",
    "selected_data = data[selected_columns]"
   ]
  },
  {
   "cell_type": "code",
   "execution_count": 202,
   "id": "348f21f4-76fe-4575-8e16-a16d44756ee0",
   "metadata": {},
   "outputs": [],
   "source": [
    "# Convert each row to a set of shingles\n",
    "def row_to_shingles(row):\n",
    "    shingles = []\n",
    "    for value in row:\n",
    "        if isinstance(value, str):\n",
    "            shingles.append(value)\n",
    "        else:\n",
    "            shingles.append(str(value))\n",
    "    return set(shingles)\n",
    "\n",
    "shingles = selected_data.apply(row_to_shingles, axis=1)"
   ]
  },
  {
   "cell_type": "code",
   "execution_count": 203,
   "id": "3fd06abe-9e00-4c4c-9e48-b3d0a9c16547",
   "metadata": {},
   "outputs": [],
   "source": [
    "# Initialize MinHash objects for each row\n",
    "minhashes = []\n",
    "for shingle_set in shingles:\n",
    "    m = MinHash(num_perm=128)  # Adjust num_perm as needed\n",
    "    for shingle in shingle_set:\n",
    "        m.update(hashlib.md5(shingle.encode('utf-8')).digest())\n",
    "    minhashes.append(m)"
   ]
  },
  {
   "cell_type": "code",
   "execution_count": 205,
   "id": "d6d5d4c2-79c8-4741-bb0a-6ab6f60d544f",
   "metadata": {},
   "outputs": [],
   "source": [
    "# Create the LSH index\n",
    "lsh = MinHashLSH(threshold=0.5, num_perm=128)"
   ]
  },
  {
   "cell_type": "code",
   "execution_count": 206,
   "id": "c3e01333-9c3e-4043-b711-d68db1388bfb",
   "metadata": {},
   "outputs": [],
   "source": [
    "# Index each MinHash object\n",
    "for i, minhash in enumerate(minhashes):\n",
    "    lsh.insert(str(i), minhash)"
   ]
  },
  {
   "cell_type": "code",
   "execution_count": 207,
   "id": "2c34cd3c-343e-40b4-a305-88a5ce1805bc",
   "metadata": {},
   "outputs": [],
   "source": [
    "# Create a graph to represent the mappings\n",
    "G = nx.Graph()"
   ]
  },
  {
   "cell_type": "code",
   "execution_count": 208,
   "id": "20acb10f-8b50-4060-aaba-1ebc6e933fcc",
   "metadata": {},
   "outputs": [],
   "source": [
    "# Add nodes for each item\n",
    "for i in range(len(minhashes)):\n",
    "    G.add_node(i, label=str(selected_data.iloc[i]))"
   ]
  },
  {
   "cell_type": "code",
   "execution_count": 209,
   "id": "ce7b546a-b988-475c-8c82-0df15240d1a5",
   "metadata": {},
   "outputs": [],
   "source": [
    "# Add edges for mappings between similar items\n",
    "for i, minhash in enumerate(minhashes):\n",
    "    result = lsh.query(minhash)\n",
    "    for idx in result:\n",
    "        if int(idx) != i:\n",
    "            G.add_edge(i, int(idx))"
   ]
  },
  {
   "cell_type": "code",
   "execution_count": 210,
   "id": "369cf391-bf30-4f8c-bb26-5012ae805276",
   "metadata": {},
   "outputs": [
    {
     "data": {
      "image/png": "[encoded data removed]",
      "text/plain": [
       "<Figure size 1200x800 with 1 Axes>"
      ]
     },
     "metadata": {},
     "output_type": "display_data"
    }
   ],
   "source": [
    "# Draw the graph with zooming enabled\n",
    "plt.figure(figsize=(12, 8))\n",
    "pos = nx.spring_layout(G)  # Position nodes using the spring layout algorithm\n",
    "nx.draw(G, pos, with_labels=True, node_size=3000, node_color='skyblue', font_size=10, font_weight='bold')\n",
    "plt.title('Mapping between Items')\n",
    "plt.show()"
   ]
  },
  {
   "cell_type": "code",
   "execution_count": 197,
   "id": "31d1730d-4586-4b47-86f0-5e82ec703ec4",
   "metadata": {},
   "outputs": [
    {
     "name": "stdout",
     "output_type": "stream",
     "text": [
      "Graph saved as graph.html\n"
     ]
    }
   ],
   "source": [
    "import networkx as nx\n",
    "import plotly.graph_objects as go\n",
    "from plotly.offline import plot\n",
    "\n",
    "# Create a sample graph\n",
    "G = nx.complete_graph(10)\n",
    "\n",
    "# Convert NetworkX graph to Plotly graph object\n",
    "pos = nx.spring_layout(G)\n",
    "edge_trace = []\n",
    "for edge in G.edges():\n",
    "    x0, y0 = pos[edge[0]]\n",
    "    x1, y1 = pos[edge[1]]\n",
    "    edge_trace.append(go.Scatter(x=[x0, x1], y=[y0, y1], mode='lines', line=dict(width=0.5, color='black')))\n",
    "\n",
    "node_trace = go.Scatter(\n",
    "    x=[],\n",
    "    y=[],\n",
    "    text=[],\n",
    "    mode='markers+text',\n",
    "    hoverinfo='text',\n",
    "    marker=dict(\n",
    "        showscale=False,\n",
    "        colorscale='YlGnBu',\n",
    "        reversescale=True,\n",
    "        color=[],\n",
    "        size=10,\n",
    "        colorbar=dict(\n",
    "            thickness=15,\n",
    "            title='Node Connections',\n",
    "            xanchor='left',\n",
    "            titleside='right'\n",
    "        ),\n",
    "        line_width=2))\n",
    "\n",
    "for node in G.nodes():\n",
    "    x, y = pos[node]\n",
    "    node_trace['x'] += tuple([x])\n",
    "    node_trace['y'] += tuple([y])\n",
    "\n",
    "# Create figure\n",
    "fig = go.Figure(edge_trace + [node_trace])\n",
    "\n",
    "# Save the graph as an HTML file\n",
    "plotly_html = plot(fig, filename='graph.html')\n",
    "\n",
    "print(\"Graph saved as graph.html\")"
   ]
  },
  {
   "cell_type": "code",
   "execution_count": null,
   "id": "ed0ef3e7-b136-48b6-9f64-9351bdbf292b",
   "metadata": {},
   "outputs": [],
   "source": []
  },
  {
   "cell_type": "code",
   "execution_count": null,
   "id": "e5b74701-e1ce-4677-8169-349a71cc1412",
   "metadata": {},
   "outputs": [],
   "source": []
  }
 ],
 "metadata": {
  "kernelspec": {
   "display_name": "Python 3 (ipykernel)",
   "language": "python",
   "name": "python3"
  },
  "language_info": {
   "codemirror_mode": {
    "name": "ipython",
    "version": 3
   },
   "file_extension": ".py",
   "mimetype": "text/x-python",
   "name": "python",
   "nbconvert_exporter": "python",
   "pygments_lexer": "ipython3",
   "version": "3.10.6"
  }
 },
 "nbformat": 4,
 "nbformat_minor": 5
}
